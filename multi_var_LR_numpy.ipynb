{
 "cells": [
  {
   "cell_type": "code",
   "execution_count": 308,
   "metadata": {},
   "outputs": [],
   "source": [
    "import numpy as np\n",
    "import pandas as pd\n",
    "import matplotlib.pyplot as plt\n",
    "from sklearn.model_selection import train_test_split\n",
    "from sklearn.preprocessing import StandardScaler"
   ]
  },
  {
   "cell_type": "code",
   "execution_count": 309,
   "metadata": {},
   "outputs": [],
   "source": [
    "df= pd.read_csv(\"multiple-lr-data.csv\")"
   ]
  },
  {
   "cell_type": "code",
   "execution_count": 310,
   "metadata": {},
   "outputs": [],
   "source": [
    "#df.describe()"
   ]
  },
  {
   "cell_type": "code",
   "execution_count": 311,
   "metadata": {},
   "outputs": [],
   "source": [
    "#finding x and y\n",
    "# y=np.array(df['loan'])\n",
    "# x1=np.array(df['age'])\n",
    "# x2=np.array(df['credit-rating'])\n",
    "# x3=np.array(df['children'])\n",
    "a=np.array(df)\n",
    "x1=a[:,0]\n",
    "x2=a[:,1]\n",
    "x3=a[:,2]\n",
    "x=np.column_stack((x1,x2,x3))\n",
    "y=a[:,3]"
   ]
  },
  {
   "cell_type": "code",
   "execution_count": 312,
   "metadata": {},
   "outputs": [
    {
     "data": {
      "text/plain": [
       "(1338, 3)"
      ]
     },
     "execution_count": 312,
     "metadata": {},
     "output_type": "execute_result"
    }
   ],
   "source": [
    "x.shape"
   ]
  },
  {
   "cell_type": "code",
   "execution_count": 313,
   "metadata": {},
   "outputs": [
    {
     "data": {
      "text/plain": [
       "array([[19.  , 27.9 ,  0.  ],\n",
       "       [18.  , 42.13,  1.  ],\n",
       "       [28.  , 33.  ,  3.  ],\n",
       "       ...,\n",
       "       [18.  , 36.85,  0.  ],\n",
       "       [21.  , 25.8 ,  0.  ],\n",
       "       [61.  , 29.07,  0.  ]])"
      ]
     },
     "execution_count": 313,
     "metadata": {},
     "output_type": "execute_result"
    }
   ],
   "source": [
    "x"
   ]
  },
  {
   "cell_type": "code",
   "execution_count": 314,
   "metadata": {},
   "outputs": [],
   "source": [
    "#train and test split\n",
    "x_train, x_test, y_train, y_test = train_test_split( x, y, test_size=0.2, shuffle=False)\n",
    "# x_train2, x_test2, y_train, y_test = train_test_split( x2, y, test_size=0.2, shuffle=False)\n",
    "# x_train3, x_test3, y_train, y_test = train_test_split( x3, y, test_size=0.2, shuffle=False)"
   ]
  },
  {
   "cell_type": "code",
   "execution_count": 315,
   "metadata": {},
   "outputs": [
    {
     "data": {
      "text/plain": [
       "array([[19.   , 27.9  ,  0.   ],\n",
       "       [18.   , 42.13 ,  1.   ],\n",
       "       [28.   , 33.   ,  3.   ],\n",
       "       ...,\n",
       "       [39.   , 42.655,  0.   ],\n",
       "       [63.   , 21.66 ,  1.   ],\n",
       "       [54.   , 31.9  ,  1.   ]])"
      ]
     },
     "execution_count": 315,
     "metadata": {},
     "output_type": "execute_result"
    }
   ],
   "source": [
    "x_train"
   ]
  },
  {
   "cell_type": "code",
   "execution_count": 316,
   "metadata": {},
   "outputs": [],
   "source": [
    "#transform of x for multiplication\n",
    "# sc = StandardScaler()\n",
    "# x_train = sc.fit_transform(x_train)"
   ]
  },
  {
   "cell_type": "code",
   "execution_count": 317,
   "metadata": {},
   "outputs": [],
   "source": [
    "#h=t0+t1x1+t2x2+tnxn\n",
    "#J is same as single var\n",
    "#gradient is error X xj"
   ]
  },
  {
   "cell_type": "code",
   "execution_count": 318,
   "metadata": {},
   "outputs": [],
   "source": [
    "#hyper parameters\n",
    "alpha=0.0001\n",
    "iterations=100000\n",
    "t0=0.5\n",
    "t1=0.5\n",
    "t2=0.5\n",
    "t3=0.5"
   ]
  },
  {
   "cell_type": "code",
   "execution_count": 319,
   "metadata": {},
   "outputs": [],
   "source": [
    "#prediction function\n",
    "def h(t0,t1,t2,t3):\n",
    "    return t0+(t1*x_train[:,0])+(t2*x_train[:,1])+(t3*x_train[:,2])"
   ]
  },
  {
   "cell_type": "code",
   "execution_count": 320,
   "metadata": {},
   "outputs": [],
   "source": [
    "#cost function\n",
    "def get_cost(t0,t1,t2,t3):\n",
    "    preds=h(t0,t1,t2,t3)  #error\n",
    "    J=(preds-y_train)**2 #squaring\n",
    "    J=J.mean()\n",
    "    J=J/2 #gradient decsent looks good\n",
    "    #print(J)\n",
    "    return J"
   ]
  },
  {
   "cell_type": "code",
   "execution_count": 321,
   "metadata": {},
   "outputs": [],
   "source": [
    "#testing preds\n",
    "# def custom_plot(t0,t1,t2,t3):\n",
    "#     preds=h(t0,t1,t2,t3)"
   ]
  },
  {
   "cell_type": "code",
   "execution_count": 322,
   "metadata": {},
   "outputs": [],
   "source": [
    "#calculating gradients\n",
    "def get_gradients(t0,t1,t2,t3):\n",
    "    preds=h(t0,t1,t2,t3)\n",
    "    g0=(preds-y_train).mean()\n",
    "    g1=((preds-y_train)*x_train[:,0]).mean()  #each value multiplied in array\n",
    "    g2=((preds-y_train)*x_train[:,1]).mean()\n",
    "    g3=((preds-y_train)*x_train[:,2]).mean()\n",
    "    return(g0,g1,g2,g3)"
   ]
  },
  {
   "cell_type": "code",
   "execution_count": 323,
   "metadata": {},
   "outputs": [],
   "source": [
    "#update parameters\n",
    "def update(t0,t1,t2,t3):\n",
    "    (g0,g1,g2,g3)=get_gradients(t0,t1,t2,t3)\n",
    "    t0=t0-alpha*g0 #g0 is slope\n",
    "    t1=t1-alpha*g1\n",
    "    t2=t2-alpha*g2\n",
    "    t3=t3-alpha*g3\n",
    "    return (t0,t1,t2,t3)"
   ]
  },
  {
   "cell_type": "code",
   "execution_count": 324,
   "metadata": {},
   "outputs": [],
   "source": [
    "#fit the model/optimise\n",
    "def fit(t0,t1,t2,t3):\n",
    "    cost_progress=[]\n",
    "    for i in range(iterations):\n",
    "        t0,t1,t2,t3=update(t0,t1,t2,t3)\n",
    "        cost=get_cost(t0,t1,t2,t3)\n",
    "        cost_progress.append(cost)\n",
    "    return (t0,t1,t2,t3,cost_progress)"
   ]
  },
  {
   "cell_type": "code",
   "execution_count": 325,
   "metadata": {},
   "outputs": [],
   "source": [
    "(t0,t1,t2,t3,cost_progress)=fit(t0,t1,t2,t3)"
   ]
  },
  {
   "cell_type": "code",
   "execution_count": 326,
   "metadata": {},
   "outputs": [],
   "source": [
    "def pred(t0,t1,t2,t3,x,y,z):\n",
    "    return t0+t1*x+t2*y+t3*z"
   ]
  },
  {
   "cell_type": "code",
   "execution_count": 327,
   "metadata": {},
   "outputs": [
    {
     "data": {
      "text/plain": [
       "array([13936.10438332, 18454.77929343,  8814.72595329, 16663.54080675,\n",
       "       15313.72602846, 11391.98658928, 15273.45975238,  7836.27617074,\n",
       "       10495.05833571, 19990.35635343,  7101.56695429, 11063.33982021,\n",
       "       10958.83776952, 11749.65914137, 18795.39423441, 12372.91724112,\n",
       "       16162.81590136, 17100.50166832, 19364.37088687, 15104.05991381,\n",
       "       15684.49579043, 16322.92586577, 10663.46628747,  8883.29392573,\n",
       "       17398.63011808,  9640.86781536, 17116.06674314,  9514.37062758,\n",
       "       15832.58201171, 10615.19874289, 10028.93453996, 16756.02561649,\n",
       "       12456.86291589, 18179.35415308, 12201.10510884, 16358.28892287,\n",
       "       14968.64824067, 15250.70917002, 10096.6968458 , 13381.68141234,\n",
       "       16930.38424527, 15159.16247196, 15097.66236244, 10611.18097434,\n",
       "        8008.99210772, 17228.34953515, 14953.83685342, 10865.20150529,\n",
       "       12774.2053224 ,  9876.60711295,  9299.23497886, 16573.7916621 ,\n",
       "       18302.81895694, 10773.86994614, 11798.26776776, 17262.84955833,\n",
       "       16336.03428391, 13625.75655806, 12450.45706624,  5987.55534309,\n",
       "       13415.97279878, 13676.45475061, 18737.18130458, 13484.3025336 ,\n",
       "       10895.80140454, 15980.1055101 , 13276.58412787,  8268.06601318,\n",
       "       11370.66176373,  8588.64002817, 16908.91756248, 14760.9428393 ,\n",
       "       14706.1943673 , 13881.3021362 , 16389.26891699, 17309.17119009,\n",
       "       18022.48700541,  8710.57798875, 15136.62052634, 14149.72619312,\n",
       "        7950.79218225, 18254.25939959, 15210.80818836, 13243.73329868,\n",
       "       15860.76606344, 11657.84464317, 10908.83003884,  8507.12500137,\n",
       "        8461.5180441 , 13173.78863847, 14841.88684494, 14571.21836026,\n",
       "       12664.94190996,  7559.41226923, 13210.39123217, 11055.5572828 ,\n",
       "       18754.03498505, 10145.10624763, 12816.12909074, 13380.86924356,\n",
       "        7772.89872396, 13739.84990783, 18813.74224726, 13075.85380121,\n",
       "       11551.45225087,  8265.32564201, 14943.08871157, 12811.3038595 ,\n",
       "        9948.10167676, 10830.91011885, 15876.29862737,  9251.69981921,\n",
       "        9550.60142467, 14633.23682971,  9127.89572965, 13609.19959644,\n",
       "       10525.17709201, 18457.37130517, 13098.4672324 ,  8662.54038352,\n",
       "       12133.33809691, 11982.88150497, 17862.88598875, 15985.27002705,\n",
       "        9322.50571724,  8855.5094754 ,  8126.10013097, 13818.05354231,\n",
       "       13177.40325182, 10827.17786088, 11922.09606994, 16986.70683349,\n",
       "        9203.51385456, 16244.3504347 ,  8505.11051296,  9881.42404592,\n",
       "       18915.5281394 , 13393.76722888, 11779.76959939, 18972.63688769,\n",
       "       12547.33144113, 14210.88522084,  6296.32254994, 17033.88790698,\n",
       "       10560.38999359,  9605.26181455, 12003.25701058, 12521.47519318,\n",
       "       15531.66591784, 13627.35018082,  9503.00419162, 12729.85090609,\n",
       "       14331.23426475,  7306.10461668, 12392.05141404, 13536.36620565,\n",
       "       10745.36431914, 15473.68942955, 17413.01413751, 17097.90965658,\n",
       "       17629.39111892,  6815.47525203, 16236.58740382, 15786.13152706,\n",
       "       14408.81310294,  9922.53564549, 16622.40970066, 16706.52974356,\n",
       "       11993.2625563 , 12139.52050938, 18625.62439533, 20463.40615485,\n",
       "        8296.24356273, 10762.84459199,  8517.26310899, 10981.03863334,\n",
       "       14383.53908442, 12705.87379149,  9732.60073362, 12148.52957904,\n",
       "        9233.90982317,  6212.27108262,  7845.42239155, 14287.89303787,\n",
       "       11125.56401641, 14861.32603497, 17756.51310299, 16058.674439  ,\n",
       "       18920.28479507, 14391.59233196,  9319.9137055 , 11883.62084508,\n",
       "       13161.70282194, 13965.49546076, 16356.28093664, 17244.3401817 ,\n",
       "       16448.39215368,  9465.17977177,  8969.00108921, 14720.61269372,\n",
       "       10829.83194602, 10334.29756629, 14639.66868807, 11707.23942962,\n",
       "        9172.5468648 , 15632.35883671,  8883.29392573, 11045.54332199,\n",
       "       13055.46529124,  9640.50072484, 15377.60121474, 14831.52530014,\n",
       "        6331.90254203,  8272.89124442, 19280.18226839, 13461.68260022,\n",
       "        7800.34209249, 11615.69743765, 10858.4989368 , 15021.87637157,\n",
       "       11332.43418867,  9039.9441384 ,  7308.19418284, 14620.64386151,\n",
       "       16137.24987008,  7226.52429444,  7168.03235621, 10274.10086286,\n",
       "       11594.45419203,  7699.14672803, 14135.39594882, 19240.15063774,\n",
       "        8145.19823919, 13198.64649743, 13118.85574237,  8838.78464782,\n",
       "        8882.93983957, 12237.4990658 ,  9531.87511305, 14312.44117363,\n",
       "       13065.47925205, 10704.94138536, 14341.81454064,  9749.68435344,\n",
       "       10570.41695876,  7950.79868443,  6362.08157564, 12225.07281127,\n",
       "       15093.91239403, 12753.04186063, 12186.71458723, 17336.60155425,\n",
       "       19609.03947027, 16071.05877048, 10478.86196243, 18388.80333273,\n",
       "       13919.3925601 , 15819.26316075,  8702.81495788, 18026.38242325,\n",
       "       16761.56843222,  9673.76121142, 19542.28385169, 16513.80539149,\n",
       "        8253.22211504,  9176.42927828,  7793.205654  , 17552.67351855])"
      ]
     },
     "execution_count": 327,
     "metadata": {},
     "output_type": "execute_result"
    }
   ],
   "source": [
    "pred(t0,t1,t2,t3,x_test[:,0],x_test[:,1],x_test[:,2])"
   ]
  },
  {
   "cell_type": "code",
   "execution_count": 328,
   "metadata": {},
   "outputs": [],
   "source": [
    "#cost function\n",
    "def get_cost_t(t0,t1,t2,t3):\n",
    "    preds=pred(t0,t1,t2,t3,x_test[:,0],x_test[:,1],x_test[:,2])  #error\n",
    "    J=(preds-y_test)**2 #squaring\n",
    "    J=J.mean()\n",
    "    J=J/2 \n",
    "    #print(J)#gradient decsent looks good\n",
    "    return J"
   ]
  },
  {
   "cell_type": "code",
   "execution_count": 329,
   "metadata": {},
   "outputs": [
    {
     "data": {
      "text/plain": [
       "70631270.87861371"
      ]
     },
     "execution_count": 329,
     "metadata": {},
     "output_type": "execute_result"
    }
   ],
   "source": [
    "get_cost_t(t0,t1,t2,t3)"
   ]
  },
  {
   "cell_type": "code",
   "execution_count": null,
   "metadata": {},
   "outputs": [],
   "source": []
  }
 ],
 "metadata": {
  "kernelspec": {
   "display_name": "Python 3",
   "language": "python",
   "name": "python3"
  },
  "language_info": {
   "codemirror_mode": {
    "name": "ipython",
    "version": 3
   },
   "file_extension": ".py",
   "mimetype": "text/x-python",
   "name": "python",
   "nbconvert_exporter": "python",
   "pygments_lexer": "ipython3",
   "version": "3.7.4"
  }
 },
 "nbformat": 4,
 "nbformat_minor": 2
}
